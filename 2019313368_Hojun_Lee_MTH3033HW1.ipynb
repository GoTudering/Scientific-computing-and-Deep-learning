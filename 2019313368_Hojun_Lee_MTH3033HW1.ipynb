{
  "nbformat": 4,
  "nbformat_minor": 0,
  "metadata": {
    "colab": {
      "provenance": [],
      "authorship_tag": "ABX9TyNH9LDmnJTJKNrBKvqnPFlV",
      "include_colab_link": true
    },
    "kernelspec": {
      "name": "python3",
      "display_name": "Python 3"
    },
    "language_info": {
      "name": "python"
    }
  },
  "cells": [
    {
      "cell_type": "markdown",
      "metadata": {
        "id": "view-in-github",
        "colab_type": "text"
      },
      "source": [
        "<a href=\"https://colab.research.google.com/github/GoTudering/Scientific-computing-and-Deep-learning/blob/main/2019313368_Hojun_Lee_MTH3033HW1.ipynb\" target=\"_parent\"><img src=\"https://colab.research.google.com/assets/colab-badge.svg\" alt=\"Open In Colab\"/></a>"
      ]
    },
    {
      "cell_type": "markdown",
      "source": [
        "# Problem 1"
      ],
      "metadata": {
        "id": "D7AntsRzfQre"
      }
    },
    {
      "cell_type": "code",
      "execution_count": null,
      "metadata": {
        "id": "oqGT-zWWfMgC"
      },
      "outputs": [],
      "source": [
        "def discriminant(p):\n",
        "    d, c, b, a = p  # ax^3 + bx^2 + cx + d  계수\n",
        "    # return (b**2)*(c**2) - 4*a*(c**3) - 4*(b**3)*d - 27*(a**2)*(d**2) + 18*a*b*c*d  # 23번 연산함\n",
        "    return (c**2)*(b**2 - 4*a*c) - d*(4*(b**3) + 27*(a**2)*d - 18*a*b*c)  # 18번 연산함\n",
        "def cubicroots(p):\n",
        "    return discriminant(p) > 0"
      ]
    },
    {
      "cell_type": "markdown",
      "source": [
        "#Problem 2"
      ],
      "metadata": {
        "id": "PJF-MmShrIdI"
      }
    },
    {
      "cell_type": "code",
      "source": [
        "import math\n",
        "\n",
        "def logintegral(c,N):\n",
        "    sum = 0.0  # Riemann sum 초기값\n",
        "    x = 1.0  # x  1.0부터 dx씩 올라가기\n",
        "    dx=(c-1)/N  # Δx\n",
        "    for k in range(N+1):\n",
        "        lnx = math.log(x)  # log 미리 계산하여 본 식에서 계속 계산되는 경우 피하기\n",
        "        sum += lnx*dx/(1+lnx)**2\n",
        "        x += dx  # 마지막에 x 저장하여 첫 x는 1로 계산할 수 있게 하기\n",
        "    return sum"
      ],
      "metadata": {
        "id": "8T-LBjSGiK4g"
      },
      "execution_count": null,
      "outputs": []
    }
  ]
}