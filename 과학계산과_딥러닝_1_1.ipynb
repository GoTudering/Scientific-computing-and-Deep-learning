{
  "nbformat": 4,
  "nbformat_minor": 0,
  "metadata": {
    "colab": {
      "provenance": [],
      "authorship_tag": "ABX9TyM4/K7OGldHzjPSmweLtmDQ",
      "include_colab_link": true
    },
    "kernelspec": {
      "name": "python3",
      "display_name": "Python 3"
    },
    "language_info": {
      "name": "python"
    }
  },
  "cells": [
    {
      "cell_type": "markdown",
      "metadata": {
        "id": "view-in-github",
        "colab_type": "text"
      },
      "source": [
        "<a href=\"https://colab.research.google.com/github/GoTudering/Scientific-computing-and-Deep-learning/blob/main/%EA%B3%BC%ED%95%99%EA%B3%84%EC%82%B0%EA%B3%BC_%EB%94%A5%EB%9F%AC%EB%8B%9D_1_1.ipynb\" target=\"_parent\"><img src=\"https://colab.research.google.com/assets/colab-badge.svg\" alt=\"Open In Colab\"/></a>"
      ]
    },
    {
      "cell_type": "markdown",
      "source": [
        "# Numbers\n",
        "The main numeric type in Python are intergers, floating point nmbers (or floats) and complex numbers. The syntax for arithetic operators are: addition `+`, subtraction `-`, multiplication `*`, division `/` and exponentiation `**`."
      ],
      "metadata": {
        "id": "CK5CXkhVKSWO"
      }
    },
    {
      "cell_type": "markdown",
      "source": [
        "#Integers\n",
        "Add integers:"
      ],
      "metadata": {
        "id": "sh7kwfz-MDXk"
      }
    },
    {
      "cell_type": "code",
      "source": [
        "8 + 12"
      ],
      "metadata": {
        "colab": {
          "base_uri": "https://localhost:8080/"
        },
        "id": "-J8HOBOyKTqi",
        "outputId": "f7a756f9-32f0-4393-fb68-fbca64038f17"
      },
      "execution_count": 1,
      "outputs": [
        {
          "output_type": "execute_result",
          "data": {
            "text/plain": [
              "20"
            ]
          },
          "metadata": {},
          "execution_count": 1
        }
      ]
    },
    {
      "cell_type": "markdown",
      "source": [
        "Subract integers:"
      ],
      "metadata": {
        "id": "5AApjxOFMKnU"
      }
    },
    {
      "cell_type": "code",
      "execution_count": 2,
      "metadata": {
        "colab": {
          "base_uri": "https://localhost:8080/"
        },
        "id": "oE_-GP9KKFhI",
        "outputId": "001d0dc6-ed8d-42b6-e4cf-ac0015cc9379"
      },
      "outputs": [
        {
          "output_type": "execute_result",
          "data": {
            "text/plain": [
              "1998"
            ]
          },
          "metadata": {},
          "execution_count": 2
        }
      ],
      "source": [
        "2019 - 21"
      ]
    },
    {
      "cell_type": "markdown",
      "source": [
        "Multiply integers:"
      ],
      "metadata": {
        "id": "j3W1I5FQMPMI"
      }
    },
    {
      "cell_type": "code",
      "source": [
        "45 * 11"
      ],
      "metadata": {
        "colab": {
          "base_uri": "https://localhost:8080/"
        },
        "id": "KtYSa0M5MORO",
        "outputId": "91b128b3-5a80-45b3-b68b-0d78c4292a2a"
      },
      "execution_count": 3,
      "outputs": [
        {
          "output_type": "execute_result",
          "data": {
            "text/plain": [
              "495"
            ]
          },
          "metadata": {},
          "execution_count": 3
        }
      ]
    },
    {
      "cell_type": "markdown",
      "source": [
        "Divide integers (and notice that division of integers always returns a float)"
      ],
      "metadata": {
        "id": "4zwAG5l9Z89_"
      }
    },
    {
      "cell_type": "code",
      "source": [
        "100 / 4"
      ],
      "metadata": {
        "colab": {
          "base_uri": "https://localhost:8080/"
        },
        "id": "XzDhpsDxMTGx",
        "outputId": "42057c13-6e37-4783-e39a-7a1beca90a32"
      },
      "execution_count": 4,
      "outputs": [
        {
          "output_type": "execute_result",
          "data": {
            "text/plain": [
              "25.0"
            ]
          },
          "metadata": {},
          "execution_count": 4
        }
      ]
    },
    {
      "cell_type": "markdown",
      "source": [
        "Compute powers of integers:"
      ],
      "metadata": {
        "id": "-IC5okfBaNlF"
      }
    },
    {
      "cell_type": "code",
      "source": [
        "2**5"
      ],
      "metadata": {
        "colab": {
          "base_uri": "https://localhost:8080/"
        },
        "id": "kvY9px5BaKib",
        "outputId": "66ab846b-ad59-4c1e-ccfd-483998bcc02b"
      },
      "execution_count": 6,
      "outputs": [
        {
          "output_type": "execute_result",
          "data": {
            "text/plain": [
              "32"
            ]
          },
          "metadata": {},
          "execution_count": 6
        }
      ]
    },
    {
      "cell_type": "markdown",
      "source": [
        "Use the bulit-in function `type()` to verify the type of a Python object:"
      ],
      "metadata": {
        "id": "HB99at-EaQ_q"
      }
    },
    {
      "cell_type": "code",
      "source": [
        "type(42)"
      ],
      "metadata": {
        "colab": {
          "base_uri": "https://localhost:8080/"
        },
        "id": "2-qJSlwvar2K",
        "outputId": "58910812-2fd7-498e-dd55-d92da190afa6"
      },
      "execution_count": 7,
      "outputs": [
        {
          "output_type": "execute_result",
          "data": {
            "text/plain": [
              "int"
            ]
          },
          "metadata": {},
          "execution_count": 7
        }
      ]
    },
    {
      "cell_type": "markdown",
      "source": [
        "#Floating Point Numbers\n",
        "A floating point number (or float) is a real number written in decimal form. Python stores floats and integers in different ways and if we combine integers and floats using arithmetic operations the result is always a float."
      ],
      "metadata": {
        "id": "j24PlwLHatVK"
      }
    },
    {
      "cell_type": "markdown",
      "source": [
        "Approximate $\\sqrt 2$"
      ],
      "metadata": {
        "id": "to6IX7hUbAIK"
      }
    },
    {
      "cell_type": "code",
      "source": [
        "2**0.5"
      ],
      "metadata": {
        "colab": {
          "base_uri": "https://localhost:8080/"
        },
        "id": "3qrH9PtFbbsj",
        "outputId": "858d6c90-0664-43d5-c288-f94074899b20"
      },
      "execution_count": 8,
      "outputs": [
        {
          "output_type": "execute_result",
          "data": {
            "text/plain": [
              "1.4142135623730951"
            ]
          },
          "metadata": {},
          "execution_count": 8
        }
      ]
    },
    {
      "cell_type": "markdown",
      "source": [
        "Approximate $\\sqrt{2π}$"
      ],
      "metadata": {
        "id": "P1U4dVSRcTDV"
      }
    },
    {
      "cell_type": "code",
      "source": [
        "2 * 3.14159"
      ],
      "metadata": {
        "colab": {
          "base_uri": "https://localhost:8080/"
        },
        "id": "mhAs-dRqcZWE",
        "outputId": "95c7ad89-7811-40e5-83b9-869c1642bcde"
      },
      "execution_count": 10,
      "outputs": [
        {
          "output_type": "execute_result",
          "data": {
            "text/plain": [
              "6.28318"
            ]
          },
          "metadata": {},
          "execution_count": 10
        }
      ]
    },
    {
      "cell_type": "markdown",
      "source": [
        "Use scientific notation to create 0.00001:"
      ],
      "metadata": {
        "id": "1km_NeUzci3z"
      }
    },
    {
      "cell_type": "code",
      "source": [
        "1e-5"
      ],
      "metadata": {
        "colab": {
          "base_uri": "https://localhost:8080/"
        },
        "id": "N0-s7x2ocmkr",
        "outputId": "e8459af4-60af-425d-a2a2-683965dbe641"
      },
      "execution_count": 11,
      "outputs": [
        {
          "output_type": "execute_result",
          "data": {
            "text/plain": [
              "1e-05"
            ]
          },
          "metadata": {},
          "execution_count": 11
        }
      ]
    },
    {
      "cell_type": "markdown",
      "source": [
        "Again, use the `type()` function to verify the type of a number:"
      ],
      "metadata": {
        "id": "HtE1vfTLcn2j"
      }
    },
    {
      "cell_type": "code",
      "source": [
        "type(42)"
      ],
      "metadata": {
        "colab": {
          "base_uri": "https://localhost:8080/"
        },
        "id": "sxiKqlJPct7i",
        "outputId": "f42e055c-9de4-425f-c52f-a5b1ca3556c1"
      },
      "execution_count": 12,
      "outputs": [
        {
          "output_type": "execute_result",
          "data": {
            "text/plain": [
              "int"
            ]
          },
          "metadata": {},
          "execution_count": 12
        }
      ]
    },
    {
      "cell_type": "code",
      "source": [
        "type(42.0)"
      ],
      "metadata": {
        "colab": {
          "base_uri": "https://localhost:8080/"
        },
        "id": "f2xjWK_ycuqy",
        "outputId": "d8bf2a71-2982-4cfd-de70-1cac4e216a93"
      },
      "execution_count": 13,
      "outputs": [
        {
          "output_type": "execute_result",
          "data": {
            "text/plain": [
              "float"
            ]
          },
          "metadata": {},
          "execution_count": 13
        }
      ]
    },
    {
      "cell_type": "markdown",
      "source": [
        "#Complex Numbers\n",
        "Use the bulit-in function `complex()` to create a complex number in Python on use the letter `j` for $j \\, = \\, \\sqrt{-1}$. The built-in function `complex()` takes 2 parameters defining the real and imaginary part of the complex number.\n",
        "<br/><br/>\n",
        "Create the complex number 1+$j$:"
      ],
      "metadata": {
        "id": "6NktKIWQcv-6"
      }
    },
    {
      "cell_type": "code",
      "source": [
        "complex(1,1)"
      ],
      "metadata": {
        "colab": {
          "base_uri": "https://localhost:8080/"
        },
        "id": "EvPwiWZ7efaD",
        "outputId": "13c2d59e-5570-4816-e853-db324ee19213"
      },
      "execution_count": 15,
      "outputs": [
        {
          "output_type": "execute_result",
          "data": {
            "text/plain": [
              "(1+1j)"
            ]
          },
          "metadata": {},
          "execution_count": 15
        }
      ]
    },
    {
      "cell_type": "markdown",
      "source": [
        "Add compldx numbers:"
      ],
      "metadata": {
        "id": "vqbNOHg8fkFG"
      }
    },
    {
      "cell_type": "code",
      "source": [
        "(1 + 2j) + (2 - 3j)"
      ],
      "metadata": {
        "colab": {
          "base_uri": "https://localhost:8080/"
        },
        "id": "a2SkU82HfreM",
        "outputId": "b44e825f-3b5c-47ee-fd88-8b3ed2d620a0"
      },
      "execution_count": 16,
      "outputs": [
        {
          "output_type": "execute_result",
          "data": {
            "text/plain": [
              "(3-1j)"
            ]
          },
          "metadata": {},
          "execution_count": 16
        }
      ]
    },
    {
      "cell_type": "markdown",
      "source": [
        "Multiply complex numbers:"
      ],
      "metadata": {
        "id": "jI4gQ7uqfvQr"
      }
    },
    {
      "cell_type": "code",
      "source": [
        "(2 - 1j) * (5 + 2j)"
      ],
      "metadata": {
        "colab": {
          "base_uri": "https://localhost:8080/"
        },
        "id": "ujn25uU5f0n-",
        "outputId": "839115d0-53ba-4f5a-abec-a698d29eac94"
      },
      "execution_count": 17,
      "outputs": [
        {
          "output_type": "execute_result",
          "data": {
            "text/plain": [
              "(12-1j)"
            ]
          },
          "metadata": {},
          "execution_count": 17
        }
      ]
    },
    {
      "cell_type": "markdown",
      "source": [
        "Use the `type()` functon to verify the type of a number:"
      ],
      "metadata": {
        "id": "QkMatjF5f3rl"
      }
    },
    {
      "cell_type": "code",
      "source": [
        "type(2 - 7j)"
      ],
      "metadata": {
        "colab": {
          "base_uri": "https://localhost:8080/"
        },
        "id": "8HSctAVAgFwj",
        "outputId": "f02d8f04-53f4-4199-fece-217856cad09e"
      },
      "execution_count": 18,
      "outputs": [
        {
          "output_type": "execute_result",
          "data": {
            "text/plain": [
              "complex"
            ]
          },
          "metadata": {},
          "execution_count": 18
        }
      ]
    },
    {
      "cell_type": "markdown",
      "source": [
        "#Arithmetic Operators\n",
        "The syntax for arithmetic operators in Python are:\n",
        "\n",
        "|**Operator**|**Description**|\n",
        "|:---:|:---:|\n",
        "|+|addition|\n",
        "|-|subtraction|\n",
        "|*|multiplication|\n",
        "|/|division|\n",
        "|**|exponentiation|\n",
        "|%|remainder (or modulo)|\n",
        "|//|integer division|\n",
        "\n",
        "Notice that division of integers always returns a float:"
      ],
      "metadata": {
        "id": "KcJYrraKgHYC"
      }
    },
    {
      "cell_type": "code",
      "source": [
        "4 / 3"
      ],
      "metadata": {
        "colab": {
          "base_uri": "https://localhost:8080/"
        },
        "id": "opzAkAG9glY7",
        "outputId": "c8ddd8f1-bd44-423b-e832-0096ca9c0cdc"
      },
      "execution_count": 19,
      "outputs": [
        {
          "output_type": "execute_result",
          "data": {
            "text/plain": [
              "1.3333333333333333"
            ]
          },
          "metadata": {},
          "execution_count": 19
        }
      ]
    },
    {
      "cell_type": "markdown",
      "source": [
        "Even if the mathematical result is an integer:"
      ],
      "metadata": {
        "id": "2wqAhShzh1G1"
      }
    },
    {
      "cell_type": "code",
      "source": [
        "4 / 2"
      ],
      "metadata": {
        "colab": {
          "base_uri": "https://localhost:8080/"
        },
        "id": "200S9SfMh4ps",
        "outputId": "cb003f96-b7ca-404b-90b9-d41a20329d71"
      },
      "execution_count": 20,
      "outputs": [
        {
          "output_type": "execute_result",
          "data": {
            "text/plain": [
              "2.0"
            ]
          },
          "metadata": {},
          "execution_count": 20
        }
      ]
    },
    {
      "cell_type": "markdown",
      "source": [
        "Use parentheses to group combinations of arithmetic operations:"
      ],
      "metadata": {
        "id": "2yM9dwZ4h50r"
      }
    },
    {
      "cell_type": "code",
      "source": [
        "5 * (4 + 3) - 2"
      ],
      "metadata": {
        "colab": {
          "base_uri": "https://localhost:8080/"
        },
        "id": "gnY_M9tSiEIE",
        "outputId": "38b37a38-f5cf-4389-ec7d-a7d42598c7ab"
      },
      "execution_count": 21,
      "outputs": [
        {
          "output_type": "execute_result",
          "data": {
            "text/plain": [
              "33"
            ]
          },
          "metadata": {},
          "execution_count": 21
        }
      ]
    },
    {
      "cell_type": "markdown",
      "source": [
        "A positive integer power of an iteger is again an integer:"
      ],
      "metadata": {
        "id": "MTrp7rwGiGPN"
      }
    },
    {
      "cell_type": "code",
      "source": [
        "2**4"
      ],
      "metadata": {
        "colab": {
          "base_uri": "https://localhost:8080/"
        },
        "id": "PuoSdLiOiLjU",
        "outputId": "6b8d5c49-eb20-41f2-c86a-76153cd803c3"
      },
      "execution_count": 22,
      "outputs": [
        {
          "output_type": "execute_result",
          "data": {
            "text/plain": [
              "16"
            ]
          },
          "metadata": {},
          "execution_count": 22
        }
      ]
    },
    {
      "cell_type": "markdown",
      "source": [
        "A negative integer power of an integer is a float:"
      ],
      "metadata": {
        "id": "3hatN16ziMVM"
      }
    },
    {
      "cell_type": "code",
      "source": [
        "2**(-1)"
      ],
      "metadata": {
        "colab": {
          "base_uri": "https://localhost:8080/"
        },
        "id": "sl7j2h-hiRMM",
        "outputId": "4c53c133-6949-4842-c230-76c9915a0670"
      },
      "execution_count": 23,
      "outputs": [
        {
          "output_type": "execute_result",
          "data": {
            "text/plain": [
              "0.5"
            ]
          },
          "metadata": {},
          "execution_count": 23
        }
      ]
    },
    {
      "cell_type": "markdown",
      "source": [
        "An exponent involving a float is a float:"
      ],
      "metadata": {
        "id": "PKl1uGztiST0"
      }
    },
    {
      "cell_type": "code",
      "source": [
        "9**0.5"
      ],
      "metadata": {
        "colab": {
          "base_uri": "https://localhost:8080/"
        },
        "id": "PvYls0wjiWeb",
        "outputId": "85aaf6d5-e3d4-49fa-e1f5-919921409070"
      },
      "execution_count": 24,
      "outputs": [
        {
          "output_type": "execute_result",
          "data": {
            "text/plain": [
              "3.0"
            ]
          },
          "metadata": {},
          "execution_count": 24
        }
      ]
    },
    {
      "cell_type": "markdown",
      "source": [
        "The remainder operator computes the remainder of division of integers:"
      ],
      "metadata": {
        "id": "IumJHA0BiYnc"
      }
    },
    {
      "cell_type": "code",
      "source": [
        "11 % 4"
      ],
      "metadata": {
        "colab": {
          "base_uri": "https://localhost:8080/"
        },
        "id": "Zsd9lQoOihHb",
        "outputId": "6f58be6b-850b-40fb-a6f8-30701301093f"
      },
      "execution_count": 25,
      "outputs": [
        {
          "output_type": "execute_result",
          "data": {
            "text/plain": [
              "3"
            ]
          },
          "metadata": {},
          "execution_count": 25
        }
      ]
    },
    {
      "cell_type": "markdown",
      "source": [
        "Integer division is:"
      ],
      "metadata": {
        "id": "uasAPHwXiiFM"
      }
    },
    {
      "cell_type": "code",
      "source": [
        "11 // 4"
      ],
      "metadata": {
        "colab": {
          "base_uri": "https://localhost:8080/"
        },
        "id": "L8SNkiczij1M",
        "outputId": "ba8734fc-899f-46f8-828e-1fc42181477e"
      },
      "execution_count": 26,
      "outputs": [
        {
          "output_type": "execute_result",
          "data": {
            "text/plain": [
              "2"
            ]
          },
          "metadata": {},
          "execution_count": 26
        }
      ]
    },
    {
      "cell_type": "markdown",
      "source": [
        "<h1>Examples<h1>\n",
        "<h2>Taylor Approximation<h2>\n",
        "\n",
        "The [Taylor series](https://en.wikipedia.org/wiki/Taylor_series) of the exponential function $e^x$ is:\n",
        "$$\n",
        "e^x \\, = \\, ∑\\limits_{k=0}^∞ \\frac{x^k}{k!}\n",
        "$$\n",
        "\n",
        "Compute the Taylor polynomial of degree 5 evaluated at $x\\,=\\,1$ to find an approximation of $e$\n",
        "$$\n",
        "e\\,=\\,\\frac{1}{0!}\\,+\\,\\frac{1}{1!}\\,+\\,\\frac{1}{2!}\\,+\\,\\frac{1}{3!}\\,+\\,\\frac{1}{4!}\\,+\\,\\frac{1}{5!}\n",
        "$$"
      ],
      "metadata": {
        "id": "Uy0OFoRgikaq"
      }
    },
    {
      "cell_type": "code",
      "source": [
        "1 + 1 + 1/2 + 1/(3*2) + 1/(4*3*2) + 1/(5*4*3*2)"
      ],
      "metadata": {
        "colab": {
          "base_uri": "https://localhost:8080/"
        },
        "id": "ndAIA9wnlc4T",
        "outputId": "b8fdd988-b98f-414f-9cca-b71b123d7f60"
      },
      "execution_count": 27,
      "outputs": [
        {
          "output_type": "execute_result",
          "data": {
            "text/plain": [
              "2.7166666666666663"
            ]
          },
          "metadata": {},
          "execution_count": 27
        }
      ]
    },
    {
      "cell_type": "markdown",
      "source": [
        "#Ramanujan's Pi Formula\n",
        "[Srinivasa Ramanujan](https://en.wikipedia.org/wiki/Srinivasa_Ramanujan) discovered the following beautiful (and very rapidly converging) series representation of $π$:\n",
        "$$\n",
        "\\frac{1}{\\pi}\\,=\\,\\frac{2\\sqrt{2}}{99^2}\\sum\\limits_{k=0}^{∞} \\frac{(4k)!}{k!^4} \\frac{1103+26390k}{396^{4k}}\n",
        "$$\n",
        "Let's find an approximation of $\\pi$ by computing the reciprocal of the sum of the first 3 terms of the series:\n",
        "$$\n",
        "\\pi \\, \\approx \\, \\frac{99^2}{2\\sqrt{2}}\\frac{1}{(1103+4!\\frac{1103+26390}{396^4}+\\frac{8!}{2^4}\\frac{11033+26390×2}{396^8})}\n",
        "$$"
      ],
      "metadata": {
        "id": "Qb2ngbrullku"
      }
    },
    {
      "cell_type": "code",
      "source": [
        "99**2 / (2 * 2**0.5) / (1103 + 4*3*2 * (26390 + 1103) / 396**4 + 8*7*6*5*4*3*2 / 2**4 * (26390*2 + 1103) / 396**8)"
      ],
      "metadata": {
        "colab": {
          "base_uri": "https://localhost:8080/"
        },
        "id": "ME9Zt25hn1Ce",
        "outputId": "7d0e28a1-f507-4765-f6c8-cc65940a3cef"
      },
      "execution_count": 28,
      "outputs": [
        {
          "output_type": "execute_result",
          "data": {
            "text/plain": [
              "3.141592653589793"
            ]
          },
          "metadata": {},
          "execution_count": 28
        }
      ]
    },
    {
      "cell_type": "markdown",
      "source": [
        "These are exactly the first 16 digits of $\\pi$"
      ],
      "metadata": {
        "id": "AfswNF1aoRGW"
      }
    },
    {
      "cell_type": "markdown",
      "source": [
        "#Exercises\n",
        "**Exercise 1.** The [Taylor series](https://en.wikipedia.org/wiki/Taylor_series) of $cos$ $x$ is:\n",
        "$$\n",
        "cos\\,x\\,=\\,\\sum\\limits_{k=0}^{∞} (-1)^k\\frac{x^{2k}}{(2k)!}\n",
        "$$\n",
        "Compute the Taylor polynomial of degree 6 evaluated at $x\\,=\\,2$:\n",
        "$$\n",
        "cos(2)\\,≈\\,1\\,-\\,\\frac{2^2}{2!}\\,+\\,\\frac{2^4}{4!}\\,-\\,\\frac{2^6}{6!}\n",
        "$$\n",
        "<br>\n",
        "**Exercise 2.** The [Riemann zeta function](https://en.wikipedia.org/wiki/Riemann_zeta_function) is the infinite series:\n",
        "$$\n",
        "ζ(s)\\,=\\,\\sum\\limits_{n=1}^∞\\frac{1}{n^s}\n",
        "$$\n",
        "and is intimately related to prime numbers by the [Euler product formula](https://en.wikipedia.org/wiki/Euler_product)\n",
        "$$\n",
        "\\sum\\limits_{n=1}^∞\\frac{1}{n^s}=∏\\limits_p(\\frac{1}{1-p^(-s)})\n",
        "$$\n",
        "where the product is over all primes $p\\,=\\,2,\\,3,\\,5,\\,7,\\,11,\\,13,⋯$\n",
        "<br>\n",
        "Compute the 5th partial sum for $s\\,=\\,2$\n",
        "$$\n",
        "1\\,+\\,\\frac{1}{2^2}\\,+\\,\\frac{1}{3^2}\\,+\\,\\frac{1}{4^2}\\,+\\,\\frac{1}{5^2}\n",
        "$$\n",
        "Compute the 5th partial roduct for $s\\,=\\,2$:\n",
        "$$\n",
        "(\\frac{1}{1-2^{-2}})(\\frac{1}{1-3^{-2}})(\\frac{1}{1-5^{-2}})(\\frac{1}{1-7^{-2}})(\\frac{1}{1-11^{-2}})\n",
        "$$\n",
        "Given [Euler's special value formula](https://en.wikipedia.org/wiki/Basel_problem):\n",
        "$$\n",
        "ζ(2)\\,=\\,\\frac{\\pi^2}{6}\n",
        "$$\n",
        "which converges more quickly: the infinite series or product?\n",
        "<br>\n",
        "**Exercise 3.**The [continued fraction](https://en.wikipedia.org/wiki/Continued_fraction) for $\\sqrt2$ is:\n",
        "$$\n",
        "\\sqrt2\\,=\\,1+\\frac{1}{2+\\frac{1}{2+\\frac{1}{2+\\frac{1}{2+\\ddots}}}}\n",
        "$$\n",
        "Compute the following (partial) continued fraction to approximate $\\sqrt2$:\n",
        "$$\n",
        "\\sqrt2\\,≈\\,1+\\frac{1}{2+\\frac{1}{2+\\frac{1}{2+\\frac{1}{2}}}}\n",
        "$$\n",
        "<br>\n",
        "**Exercise 4.** Suppose `type(x)` is `int` and `type(y)` is `float`. Determine:\n",
        "\n",
        "- `type(x / y)` if `y` is nonzero\n",
        "- `type(x + y)`\n",
        "- `type(x + y)`\n",
        "<br>\n",
        "**Exercise 5.** Suppose `type(x)` and `type(y)` are `int`. Determine:\n",
        "\n",
        "- `type(x / y)` if `y` is nonzero\n",
        "- `type(x + y)`\n",
        "- `type(x + y)`"
      ],
      "metadata": {
        "id": "r_9m-hiioYzM"
      }
    },
    {
      "cell_type": "markdown",
      "source": [
        "###Variables\n",
        "Just like the familiar variables $x$ and $y$ in mathematics, we use variables in programming to easily manipulate values. The assignment operator `=` assigns values to variables in Python. Choose descriptive varibale names and avoid special Python reserved words."
      ],
      "metadata": {
        "id": "WpD1QVfu4Enh"
      }
    },
    {
      "cell_type": "markdown",
      "source": [
        "##Assign Values to Variables\n",
        "Assign a value to a variable using the assignment operator `=`. For example, assign the integer $2$ to the variable `x`:"
      ],
      "metadata": {
        "id": "Akr0gUhjHEY2"
      }
    },
    {
      "cell_type": "code",
      "source": [
        "x = 2"
      ],
      "metadata": {
        "id": "S9IwNR6mHSE5"
      },
      "execution_count": 1,
      "outputs": []
    },
    {
      "cell_type": "markdown",
      "source": [
        "The assignment operator does not produce any ouput and so the cell abovce does not porduce any output in a Jupyter notebook. Use the built-in function `print` to display the value assigned to a variable:"
      ],
      "metadata": {
        "id": "p1Mw98IUHUJG"
      }
    },
    {
      "cell_type": "code",
      "source": [
        "print(x)"
      ],
      "metadata": {
        "colab": {
          "base_uri": "https://localhost:8080/"
        },
        "id": "Ek0uMqXCHlWP",
        "outputId": "ecf34d85-e360-4687-b130-4520bb87f057"
      },
      "execution_count": 2,
      "outputs": [
        {
          "output_type": "stream",
          "name": "stdout",
          "text": [
            "2\n"
          ]
        }
      ]
    },
    {
      "cell_type": "markdown",
      "source": [
        "Compute new values using variables and operators:"
      ],
      "metadata": {
        "id": "sZQJ9ajpHmYR"
      }
    },
    {
      "cell_type": "code",
      "source": [
        "1 + x + x**2 + x**3"
      ],
      "metadata": {
        "colab": {
          "base_uri": "https://localhost:8080/"
        },
        "id": "L7HjPFTqHqSo",
        "outputId": "f7933ecc-5f4b-480c-d96e-6841a1531667"
      },
      "execution_count": 4,
      "outputs": [
        {
          "output_type": "execute_result",
          "data": {
            "text/plain": [
              "15"
            ]
          },
          "metadata": {},
          "execution_count": 4
        }
      ]
    },
    {
      "cell_type": "markdown",
      "source": [
        "Use the built-in function `type` to verify the datatype of the value assigned to a variable:"
      ],
      "metadata": {
        "id": "ueRL9YNBHs4Y"
      }
    },
    {
      "cell_type": "code",
      "source": [
        "pi = 3.141592\n",
        "type(pi)"
      ],
      "metadata": {
        "colab": {
          "base_uri": "https://localhost:8080/"
        },
        "id": "WO3lEQ8zH2-2",
        "outputId": "e3faab3d-76ff-4408-8f6a-7f3100093da8"
      },
      "execution_count": 5,
      "outputs": [
        {
          "output_type": "execute_result",
          "data": {
            "text/plain": [
              "float"
            ]
          },
          "metadata": {},
          "execution_count": 5
        }
      ]
    },
    {
      "cell_type": "markdown",
      "source": [
        "##Naming Conventions\n",
        "We can use any set of letters, numbers and underscores to make variable names however a variale name cannot begin with a number. There are many different kinds of naming conventions and we refer to the [Style Guide for Python Code(PEP8)](https://peps.python.org/pep-0008/) for a summary.\n",
        "<br>\n",
        "<br>\n",
        "In this book we use `lower_case_with_underscores` variable names and single lowercase letter variable names such as `x`. It is good practivce to use descriptive variable names to make your code more readable for ohter people.\n",
        "<br>\n",
        "<br>\n",
        "For example, the distance from Vancouver to Halifax along the Trans-Canada Highway is approximately 5799 kilometres. We write the following code to convert this value to miles:"
      ],
      "metadata": {
        "id": "COyzExSgH5ex"
      }
    },
    {
      "cell_type": "code",
      "source": [
        "distance_km = 5799\n",
        "miles_per_km = 0.6214\n",
        "distance_miles = distance_km * miles_per_km\n",
        "print(distance_miles)"
      ],
      "metadata": {
        "colab": {
          "base_uri": "https://localhost:8080/"
        },
        "id": "Diod5LusNf4s",
        "outputId": "4c814920-0145-4947-e1e5-2f360d123766"
      },
      "execution_count": 7,
      "outputs": [
        {
          "output_type": "stream",
          "name": "stdout",
          "text": [
            "3603.4986\n"
          ]
        }
      ]
    },
    {
      "cell_type": "markdown",
      "source": [
        "#Names to Avoid\n",
        "It is good practice to use variable names which describe the value assigned to it. However there are words that we should not use as variable names because these words already have special meaning in Python."
      ],
      "metadata": {
        "id": "S_0MTYw8NwtR"
      }
    },
    {
      "cell_type": "markdown",
      "source": [
        "#Reserved Words\n",
        "Summarized below are the [reserved words in Python 3](https://realpython.com/lessons/reserved-keywords/). Python will raise an error if you try to assign a value to any of these keywords and so you must avoid these as variable names.\n",
        "\n",
        "|`False`|`class`|`finally`|`is`|`return`|\n",
        "|:-:|:-:|:-:|:-:|:-:|\n",
        "|`None`|`continue`|`for`|`lambda`|`try`|\n",
        "|`True`|`def`|`from`|`nonlocal`|`while`|\n",
        "|`and`|`del`|`golba`|`not`|`with`|\n",
        "|`as`|`elif`|`if`|`or`|`yield`|\n",
        "|`assert`|`else`|`import`|`pass`|`break`|\n",
        "|`except`|`in`|`raise`|||"
      ],
      "metadata": {
        "id": "ncbTgNWpONaU"
      }
    },
    {
      "cell_type": "markdown",
      "source": [
        "##Built-in Function Names\n",
        "There are several functions which are included in the standard Python library. Do *not* use the names of these functions as variable names otherwise the reference to the built-in function will be lost. For example, do not us `sum`, `min`, `list` or `sorted` as a variable name. See the full list of [builtin functions](https://docs.python.org/3/library/functions.html)."
      ],
      "metadata": {
        "id": "EvjSb97aP5Q2"
      }
    },
    {
      "cell_type": "markdown",
      "source": [
        "##Jupyter Magic: whos\n",
        "The Jupyter magic command [whos](http://ipython.readthedocs.io/en/stable/interactive/magics.html#magic-whos) lists all variables in the current Jupyter notebook and their types."
      ],
      "metadata": {
        "id": "T24VsJx9QbJA"
      }
    },
    {
      "cell_type": "code",
      "source": [
        "x = 2\n",
        "pi = 3.14159\n",
        "distance_km = 5799\n",
        "miles_per_km = 0.6214\n",
        "distance_miles = distance_km * miles_per_km"
      ],
      "metadata": {
        "id": "zBfxbDsiRZeB"
      },
      "execution_count": 8,
      "outputs": []
    },
    {
      "cell_type": "code",
      "source": [
        "whos"
      ],
      "metadata": {
        "colab": {
          "base_uri": "https://localhost:8080/"
        },
        "id": "dX3z6VRgRgM1",
        "outputId": "5d00c78d-07f9-4be0-e9e2-7ccf924addce"
      },
      "execution_count": 9,
      "outputs": [
        {
          "output_type": "stream",
          "name": "stdout",
          "text": [
            "Variable         Type     Data/Info\n",
            "-----------------------------------\n",
            "distance_km      int      5799\n",
            "distance_miles   float    3603.4986\n",
            "miles_per_km     float    0.6214\n",
            "pi               float    3.14159\n",
            "x                int      2\n"
          ]
        }
      ]
    },
    {
      "cell_type": "markdown",
      "source": [
        "#Exercises\n",
        "**Exercise 1.** True or False: Python does not allow assigning a value to variable name which is already a builtin Python function such as `sum`, `min`, `max`."
      ],
      "metadata": {
        "id": "vcsSIx9fRg4A"
      }
    },
    {
      "cell_type": "code",
      "source": [],
      "metadata": {
        "id": "t8i2AK0TR15v"
      },
      "execution_count": null,
      "outputs": []
    }
  ]
}