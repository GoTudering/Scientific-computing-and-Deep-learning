{
  "nbformat": 4,
  "nbformat_minor": 0,
  "metadata": {
    "colab": {
      "provenance": [],
      "collapsed_sections": [],
      "authorship_tag": "ABX9TyOsDa7nzkpHrHOjoZVTEIuk",
      "include_colab_link": true
    },
    "kernelspec": {
      "name": "python3",
      "display_name": "Python 3"
    },
    "language_info": {
      "name": "python"
    }
  },
  "cells": [
    {
      "cell_type": "markdown",
      "metadata": {
        "id": "view-in-github",
        "colab_type": "text"
      },
      "source": [
        "<a href=\"https://colab.research.google.com/github/GoTudering/Scientific-computing-and-Deep-learning/blob/main/%EA%B3%BC%ED%95%99%EA%B3%84%EC%82%B0%EA%B3%BC_%EB%94%A5%EB%9F%AC%EB%8B%9D_2_2.ipynb\" target=\"_parent\"><img src=\"https://colab.research.google.com/assets/colab-badge.svg\" alt=\"Open In Colab\"/></a>"
      ]
    },
    {
      "cell_type": "markdown",
      "source": [
        "#Problem 1"
      ],
      "metadata": {
        "id": "lgazajwRAVzL"
      }
    },
    {
      "cell_type": "code",
      "execution_count": null,
      "metadata": {
        "id": "8eowY1K09C6E"
      },
      "outputs": [],
      "source": [
        "import numpy as np\n",
        "import matplotlib.pyplot as plt"
      ]
    },
    {
      "cell_type": "code",
      "source": [
        "def cos_product(x,n):\n",
        "  product = 1\n",
        "  p = np.pi\n",
        "  for i in range(1,n+1):\n",
        "    product *= 1-(4*(x**2))/(p**2*((2*i-1)**2))\n",
        "  return product"
      ],
      "metadata": {
        "id": "3TJWCA6g9dW0"
      },
      "execution_count": null,
      "outputs": []
    },
    {
      "cell_type": "code",
      "source": [
        "np.cos(2) - cos_product(2,100)"
      ],
      "metadata": {
        "colab": {
          "base_uri": "https://localhost:8080/"
        },
        "id": "DCMYOOjh_bCq",
        "outputId": "7d37be92-8c5c-4d0e-8fb3-1e4b7ea5009b"
      },
      "execution_count": null,
      "outputs": [
        {
          "output_type": "execute_result",
          "data": {
            "text/plain": [
              "0.0016899992754857984"
            ]
          },
          "metadata": {},
          "execution_count": 14
        }
      ]
    },
    {
      "cell_type": "markdown",
      "source": [
        "#Problem 2"
      ],
      "metadata": {
        "id": "oBIJ5gP0AYNs"
      }
    },
    {
      "cell_type": "code",
      "source": [
        "t = np.linspace(0,2*np.pi,1000)\n",
        "X = 16 * (np.sin(t))**3\n",
        "Y = 13 * np.cos(t) - 5 * np.cos(2*t) - 2*np.cos(3*t) - np.cos(4*t)\n",
        "plt.plot(X,Y)\n",
        "plt.title('Heart!')\n",
        "plt.axis('off')\n",
        "plt.show()"
      ],
      "metadata": {
        "colab": {
          "base_uri": "https://localhost:8080/",
          "height": 264
        },
        "id": "GpF12FWD_hsS",
        "outputId": "df9311b0-006e-4544-ce8d-0b63ff240ba3"
      },
      "execution_count": null,
      "outputs": [
        {
          "output_type": "display_data",
          "data": {
            "text/plain": [
              "<Figure size 432x288 with 1 Axes>"
            ],
            "image/png": "[encoded data removed]"
          },
          "metadata": {
            "needs_background": "light"
          }
        }
      ]
    },
    {
      "cell_type": "markdown",
      "source": [
        "\n",
        "#Problem 3"
      ],
      "metadata": {
        "id": "lk3fXAK8B0pb"
      }
    },
    {
      "cell_type": "code",
      "source": [
        "'''\n",
        "def Taylor_2n(x , n):\n",
        "  sum = 0\n",
        "  for i in range(n+1):\n",
        "    sum += (-1)**i * x**(2*i) / np.math.factorial(2*i)\n",
        "  return sum\n",
        "'''\n",
        "def Taylor_2n(x , n):\n",
        "  sum = 1.\n",
        "  term = 1.\n",
        "  for i in range(1,n+1):\n",
        "    term *= -x**2/((2*i-1)*(2*i))\n",
        "    sum += term\n",
        "  return sum\n",
        "x = np.linspace(-1,3,1000)\n",
        "y1 = Taylor_2n(x,1)\n",
        "y2 = Taylor_2n(x,2)\n",
        "y3 = Taylor_2n(x,3)\n",
        "y4 = Taylor_2n(x,4)\n",
        "plt.plot(x,y1,label='$n = 1$')\n",
        "plt.plot(x,y2, label='$n = 2$')\n",
        "plt.plot(x,y3, label='$n = 3$')\n",
        "plt.plot(x,y4, label='$n = 4$')\n",
        "plt.plot(x,np.cos(x), label='$cos$')\n",
        "plt.legend();"
      ],
      "metadata": {
        "colab": {
          "base_uri": "https://localhost:8080/",
          "height": 265
        },
        "id": "PGTIiJHMAibc",
        "outputId": "9d0aeffa-a0db-4ed2-a181-40a4cdaf77c3"
      },
      "execution_count": null,
      "outputs": [
        {
          "output_type": "display_data",
          "data": {
            "text/plain": [
              "<Figure size 432x288 with 1 Axes>"
            ],
            "image/png": "[encoded data removed]"
          },
          "metadata": {
            "needs_background": "light"
          }
        }
      ]
    },
    {
      "cell_type": "code",
      "source": [],
      "metadata": {
        "id": "SMgPXKxUDB9M"
      },
      "execution_count": null,
      "outputs": []
    }
  ]
}